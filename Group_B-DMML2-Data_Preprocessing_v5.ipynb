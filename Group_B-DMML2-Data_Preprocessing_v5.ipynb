{
 "cells": [
  {
   "cell_type": "markdown",
   "metadata": {},
   "source": [
    "# Data Preprocessing"
   ]
  },
  {
   "cell_type": "markdown",
   "metadata": {},
   "source": [
    "## 1. Importing necessary libraries"
   ]
  },
  {
   "cell_type": "markdown",
   "metadata": {},
   "source": [
    "- Importing the necessary libraries to deal with the data. We are going to need **NumPy**, **Pandas** and **Pathlib** to import the data. To plot the data, we are goint to use **Matplotlib** and **Seaborn**."
   ]
  },
  {
   "cell_type": "code",
   "execution_count": 1,
   "metadata": {},
   "outputs": [],
   "source": [
    "# Libraries to deal with the data\n",
    "import numpy as np\n",
    "import pandas as pd\n",
    "import os\n",
    "import pathlib\n",
    "\n",
    "\n",
    "# Libraries to plot data\n",
    "import seaborn as sns\n",
    "import matplotlib.pyplot as plt\n",
    "%matplotlib inline"
   ]
  },
  {
   "cell_type": "markdown",
   "metadata": {},
   "source": [
    "## 2. Importing raw dataset"
   ]
  },
  {
   "cell_type": "markdown",
   "metadata": {},
   "source": [
    "- The dataset selected is the **\"Back Order Prediction Using ANN\"**, which has **23 columns** (features) and **1.048.575 rows** (observations)."
   ]
  },
  {
   "cell_type": "code",
   "execution_count": 2,
   "metadata": {},
   "outputs": [],
   "source": [
    "# File parameters\n",
    "\n",
    "file_name = 'Training_Dataset_v2.csv'\n",
    "path = str(pathlib.Path().absolute())\n",
    "path_dataset = path + '\\\\Datasets\\\\'\n",
    "path_figures = path + '\\\\Figures\\\\'\n",
    "path_result = path + '\\\\Result\\\\'\n"
   ]
  },
  {
   "cell_type": "code",
   "execution_count": 3,
   "metadata": {},
   "outputs": [],
   "source": [
    "# Importing the dataset into a pandas dataframe\n",
    "raw_csv_data = pd.read_csv(path_dataset + file_name, sep=',', error_bad_lines=True)"
   ]
  },
  {
   "cell_type": "markdown",
   "metadata": {},
   "source": [
    "## 3. Inconsistency Check"
   ]
  },
  {
   "cell_type": "markdown",
   "metadata": {},
   "source": [
    "The dataset has 23 columns where:\n",
    "- 7 columns are **string** type.\n",
    "- 13 columns are **integer** type.\n",
    "- 3 columns are **float** type."
   ]
  },
  {
   "cell_type": "code",
   "execution_count": 4,
   "metadata": {},
   "outputs": [
    {
     "name": "stdout",
     "output_type": "stream",
     "text": [
      "<class 'pandas.core.frame.DataFrame'>\n",
      "RangeIndex: 1048575 entries, 0 to 1048574\n",
      "Data columns (total 23 columns):\n",
      " #   Column             Non-Null Count    Dtype  \n",
      "---  ------             --------------    -----  \n",
      " 0   sku                1048575 non-null  int64  \n",
      " 1   national_inv       1048575 non-null  int64  \n",
      " 2   lead_time          984057 non-null   float64\n",
      " 3   in_transit_qty     1048575 non-null  int64  \n",
      " 4   forecast_3_month   1048575 non-null  int64  \n",
      " 5   forecast_6_month   1048575 non-null  int64  \n",
      " 6   forecast_9_month   1048575 non-null  int64  \n",
      " 7   sales_1_month      1048575 non-null  int64  \n",
      " 8   sales_3_month      1048575 non-null  int64  \n",
      " 9   sales_6_month      1048575 non-null  int64  \n",
      " 10  sales_9_month      1048575 non-null  int64  \n",
      " 11  min_bank           1048575 non-null  int64  \n",
      " 12  potential_issue    1048575 non-null  object \n",
      " 13  pieces_past_due    1048575 non-null  int64  \n",
      " 14  perf_6_month_avg   1048575 non-null  float64\n",
      " 15  perf_12_month_avg  1048575 non-null  float64\n",
      " 16  local_bo_qty       1048575 non-null  int64  \n",
      " 17  deck_risk          1048575 non-null  object \n",
      " 18  oe_constraint      1048575 non-null  object \n",
      " 19  ppap_risk          1048575 non-null  object \n",
      " 20  stop_auto_buy      1048575 non-null  object \n",
      " 21  rev_stop           1048575 non-null  object \n",
      " 22  went_on_backorder  1048575 non-null  object \n",
      "dtypes: float64(3), int64(13), object(7)\n",
      "memory usage: 184.0+ MB\n"
     ]
    }
   ],
   "source": [
    "raw_csv_data.info()"
   ]
  },
  {
   "cell_type": "code",
   "execution_count": 5,
   "metadata": {},
   "outputs": [
    {
     "data": {
      "text/plain": [
       "(1048575, 23)"
      ]
     },
     "execution_count": 5,
     "metadata": {},
     "output_type": "execute_result"
    }
   ],
   "source": [
    "raw_csv_data.shape"
   ]
  },
  {
   "cell_type": "markdown",
   "metadata": {},
   "source": [
    "- Checking for null values. The column **\"lead_time\"** has **64.518** missing values."
   ]
  },
  {
   "cell_type": "code",
   "execution_count": 6,
   "metadata": {},
   "outputs": [
    {
     "data": {
      "text/plain": [
       "sku                      0\n",
       "national_inv             0\n",
       "lead_time            64518\n",
       "in_transit_qty           0\n",
       "forecast_3_month         0\n",
       "forecast_6_month         0\n",
       "forecast_9_month         0\n",
       "sales_1_month            0\n",
       "sales_3_month            0\n",
       "sales_6_month            0\n",
       "sales_9_month            0\n",
       "min_bank                 0\n",
       "potential_issue          0\n",
       "pieces_past_due          0\n",
       "perf_6_month_avg         0\n",
       "perf_12_month_avg        0\n",
       "local_bo_qty             0\n",
       "deck_risk                0\n",
       "oe_constraint            0\n",
       "ppap_risk                0\n",
       "stop_auto_buy            0\n",
       "rev_stop                 0\n",
       "went_on_backorder        0\n",
       "dtype: int64"
      ]
     },
     "execution_count": 6,
     "metadata": {},
     "output_type": "execute_result"
    }
   ],
   "source": [
    "raw_csv_data.isnull().sum()"
   ]
  },
  {
   "cell_type": "markdown",
   "metadata": {},
   "source": [
    "- Checking the rows which contain missing values."
   ]
  },
  {
   "cell_type": "code",
   "execution_count": 7,
   "metadata": {},
   "outputs": [
    {
     "data": {
      "text/html": [
       "<div>\n",
       "<style scoped>\n",
       "    .dataframe tbody tr th:only-of-type {\n",
       "        vertical-align: middle;\n",
       "    }\n",
       "\n",
       "    .dataframe tbody tr th {\n",
       "        vertical-align: top;\n",
       "    }\n",
       "\n",
       "    .dataframe thead th {\n",
       "        text-align: right;\n",
       "    }\n",
       "</style>\n",
       "<table border=\"1\" class=\"dataframe\">\n",
       "  <thead>\n",
       "    <tr style=\"text-align: right;\">\n",
       "      <th></th>\n",
       "      <th>sku</th>\n",
       "      <th>national_inv</th>\n",
       "      <th>lead_time</th>\n",
       "      <th>in_transit_qty</th>\n",
       "      <th>forecast_3_month</th>\n",
       "      <th>forecast_6_month</th>\n",
       "      <th>forecast_9_month</th>\n",
       "      <th>sales_1_month</th>\n",
       "      <th>sales_3_month</th>\n",
       "      <th>sales_6_month</th>\n",
       "      <th>...</th>\n",
       "      <th>pieces_past_due</th>\n",
       "      <th>perf_6_month_avg</th>\n",
       "      <th>perf_12_month_avg</th>\n",
       "      <th>local_bo_qty</th>\n",
       "      <th>deck_risk</th>\n",
       "      <th>oe_constraint</th>\n",
       "      <th>ppap_risk</th>\n",
       "      <th>stop_auto_buy</th>\n",
       "      <th>rev_stop</th>\n",
       "      <th>went_on_backorder</th>\n",
       "    </tr>\n",
       "  </thead>\n",
       "  <tbody>\n",
       "    <tr>\n",
       "      <th>0</th>\n",
       "      <td>1026827</td>\n",
       "      <td>0</td>\n",
       "      <td>NaN</td>\n",
       "      <td>0</td>\n",
       "      <td>0</td>\n",
       "      <td>0</td>\n",
       "      <td>0</td>\n",
       "      <td>0</td>\n",
       "      <td>0</td>\n",
       "      <td>0</td>\n",
       "      <td>...</td>\n",
       "      <td>0</td>\n",
       "      <td>-99.0</td>\n",
       "      <td>-99.0</td>\n",
       "      <td>0</td>\n",
       "      <td>No</td>\n",
       "      <td>No</td>\n",
       "      <td>No</td>\n",
       "      <td>Yes</td>\n",
       "      <td>No</td>\n",
       "      <td>No</td>\n",
       "    </tr>\n",
       "    <tr>\n",
       "      <th>2</th>\n",
       "      <td>1043696</td>\n",
       "      <td>2</td>\n",
       "      <td>NaN</td>\n",
       "      <td>0</td>\n",
       "      <td>0</td>\n",
       "      <td>0</td>\n",
       "      <td>0</td>\n",
       "      <td>0</td>\n",
       "      <td>0</td>\n",
       "      <td>0</td>\n",
       "      <td>...</td>\n",
       "      <td>0</td>\n",
       "      <td>-99.0</td>\n",
       "      <td>-99.0</td>\n",
       "      <td>0</td>\n",
       "      <td>Yes</td>\n",
       "      <td>No</td>\n",
       "      <td>No</td>\n",
       "      <td>Yes</td>\n",
       "      <td>No</td>\n",
       "      <td>No</td>\n",
       "    </tr>\n",
       "    <tr>\n",
       "      <th>4</th>\n",
       "      <td>1044048</td>\n",
       "      <td>8</td>\n",
       "      <td>NaN</td>\n",
       "      <td>0</td>\n",
       "      <td>0</td>\n",
       "      <td>0</td>\n",
       "      <td>0</td>\n",
       "      <td>0</td>\n",
       "      <td>0</td>\n",
       "      <td>0</td>\n",
       "      <td>...</td>\n",
       "      <td>0</td>\n",
       "      <td>-99.0</td>\n",
       "      <td>-99.0</td>\n",
       "      <td>0</td>\n",
       "      <td>Yes</td>\n",
       "      <td>No</td>\n",
       "      <td>No</td>\n",
       "      <td>Yes</td>\n",
       "      <td>No</td>\n",
       "      <td>No</td>\n",
       "    </tr>\n",
       "    <tr>\n",
       "      <th>6</th>\n",
       "      <td>1044643</td>\n",
       "      <td>1095</td>\n",
       "      <td>NaN</td>\n",
       "      <td>0</td>\n",
       "      <td>0</td>\n",
       "      <td>0</td>\n",
       "      <td>0</td>\n",
       "      <td>0</td>\n",
       "      <td>0</td>\n",
       "      <td>0</td>\n",
       "      <td>...</td>\n",
       "      <td>0</td>\n",
       "      <td>-99.0</td>\n",
       "      <td>-99.0</td>\n",
       "      <td>0</td>\n",
       "      <td>Yes</td>\n",
       "      <td>No</td>\n",
       "      <td>No</td>\n",
       "      <td>Yes</td>\n",
       "      <td>No</td>\n",
       "      <td>No</td>\n",
       "    </tr>\n",
       "    <tr>\n",
       "      <th>8</th>\n",
       "      <td>1045815</td>\n",
       "      <td>140</td>\n",
       "      <td>NaN</td>\n",
       "      <td>0</td>\n",
       "      <td>15</td>\n",
       "      <td>114</td>\n",
       "      <td>152</td>\n",
       "      <td>0</td>\n",
       "      <td>0</td>\n",
       "      <td>0</td>\n",
       "      <td>...</td>\n",
       "      <td>0</td>\n",
       "      <td>-99.0</td>\n",
       "      <td>-99.0</td>\n",
       "      <td>0</td>\n",
       "      <td>No</td>\n",
       "      <td>No</td>\n",
       "      <td>No</td>\n",
       "      <td>Yes</td>\n",
       "      <td>No</td>\n",
       "      <td>No</td>\n",
       "    </tr>\n",
       "    <tr>\n",
       "      <th>...</th>\n",
       "      <td>...</td>\n",
       "      <td>...</td>\n",
       "      <td>...</td>\n",
       "      <td>...</td>\n",
       "      <td>...</td>\n",
       "      <td>...</td>\n",
       "      <td>...</td>\n",
       "      <td>...</td>\n",
       "      <td>...</td>\n",
       "      <td>...</td>\n",
       "      <td>...</td>\n",
       "      <td>...</td>\n",
       "      <td>...</td>\n",
       "      <td>...</td>\n",
       "      <td>...</td>\n",
       "      <td>...</td>\n",
       "      <td>...</td>\n",
       "      <td>...</td>\n",
       "      <td>...</td>\n",
       "      <td>...</td>\n",
       "      <td>...</td>\n",
       "    </tr>\n",
       "    <tr>\n",
       "      <th>1048495</th>\n",
       "      <td>1407645</td>\n",
       "      <td>175</td>\n",
       "      <td>NaN</td>\n",
       "      <td>0</td>\n",
       "      <td>0</td>\n",
       "      <td>0</td>\n",
       "      <td>0</td>\n",
       "      <td>2</td>\n",
       "      <td>6</td>\n",
       "      <td>9</td>\n",
       "      <td>...</td>\n",
       "      <td>0</td>\n",
       "      <td>-99.0</td>\n",
       "      <td>-99.0</td>\n",
       "      <td>0</td>\n",
       "      <td>No</td>\n",
       "      <td>No</td>\n",
       "      <td>No</td>\n",
       "      <td>Yes</td>\n",
       "      <td>No</td>\n",
       "      <td>No</td>\n",
       "    </tr>\n",
       "    <tr>\n",
       "      <th>1048524</th>\n",
       "      <td>1407679</td>\n",
       "      <td>61</td>\n",
       "      <td>NaN</td>\n",
       "      <td>0</td>\n",
       "      <td>0</td>\n",
       "      <td>0</td>\n",
       "      <td>0</td>\n",
       "      <td>0</td>\n",
       "      <td>1</td>\n",
       "      <td>3</td>\n",
       "      <td>...</td>\n",
       "      <td>0</td>\n",
       "      <td>-99.0</td>\n",
       "      <td>-99.0</td>\n",
       "      <td>0</td>\n",
       "      <td>Yes</td>\n",
       "      <td>No</td>\n",
       "      <td>No</td>\n",
       "      <td>Yes</td>\n",
       "      <td>No</td>\n",
       "      <td>No</td>\n",
       "    </tr>\n",
       "    <tr>\n",
       "      <th>1048525</th>\n",
       "      <td>1407680</td>\n",
       "      <td>238</td>\n",
       "      <td>NaN</td>\n",
       "      <td>0</td>\n",
       "      <td>0</td>\n",
       "      <td>0</td>\n",
       "      <td>0</td>\n",
       "      <td>0</td>\n",
       "      <td>12</td>\n",
       "      <td>33</td>\n",
       "      <td>...</td>\n",
       "      <td>0</td>\n",
       "      <td>-99.0</td>\n",
       "      <td>-99.0</td>\n",
       "      <td>0</td>\n",
       "      <td>Yes</td>\n",
       "      <td>No</td>\n",
       "      <td>No</td>\n",
       "      <td>Yes</td>\n",
       "      <td>No</td>\n",
       "      <td>No</td>\n",
       "    </tr>\n",
       "    <tr>\n",
       "      <th>1048529</th>\n",
       "      <td>1407684</td>\n",
       "      <td>330</td>\n",
       "      <td>NaN</td>\n",
       "      <td>0</td>\n",
       "      <td>0</td>\n",
       "      <td>0</td>\n",
       "      <td>0</td>\n",
       "      <td>0</td>\n",
       "      <td>0</td>\n",
       "      <td>0</td>\n",
       "      <td>...</td>\n",
       "      <td>0</td>\n",
       "      <td>-99.0</td>\n",
       "      <td>-99.0</td>\n",
       "      <td>0</td>\n",
       "      <td>Yes</td>\n",
       "      <td>No</td>\n",
       "      <td>No</td>\n",
       "      <td>No</td>\n",
       "      <td>No</td>\n",
       "      <td>No</td>\n",
       "    </tr>\n",
       "    <tr>\n",
       "      <th>1048572</th>\n",
       "      <td>1407730</td>\n",
       "      <td>0</td>\n",
       "      <td>NaN</td>\n",
       "      <td>0</td>\n",
       "      <td>0</td>\n",
       "      <td>0</td>\n",
       "      <td>0</td>\n",
       "      <td>0</td>\n",
       "      <td>0</td>\n",
       "      <td>0</td>\n",
       "      <td>...</td>\n",
       "      <td>0</td>\n",
       "      <td>-99.0</td>\n",
       "      <td>-99.0</td>\n",
       "      <td>0</td>\n",
       "      <td>No</td>\n",
       "      <td>No</td>\n",
       "      <td>Yes</td>\n",
       "      <td>Yes</td>\n",
       "      <td>No</td>\n",
       "      <td>No</td>\n",
       "    </tr>\n",
       "  </tbody>\n",
       "</table>\n",
       "<p>64518 rows × 23 columns</p>\n",
       "</div>"
      ],
      "text/plain": [
       "             sku  national_inv  lead_time  in_transit_qty  forecast_3_month  \\\n",
       "0        1026827             0        NaN               0                 0   \n",
       "2        1043696             2        NaN               0                 0   \n",
       "4        1044048             8        NaN               0                 0   \n",
       "6        1044643          1095        NaN               0                 0   \n",
       "8        1045815           140        NaN               0                15   \n",
       "...          ...           ...        ...             ...               ...   \n",
       "1048495  1407645           175        NaN               0                 0   \n",
       "1048524  1407679            61        NaN               0                 0   \n",
       "1048525  1407680           238        NaN               0                 0   \n",
       "1048529  1407684           330        NaN               0                 0   \n",
       "1048572  1407730             0        NaN               0                 0   \n",
       "\n",
       "         forecast_6_month  forecast_9_month  sales_1_month  sales_3_month  \\\n",
       "0                       0                 0              0              0   \n",
       "2                       0                 0              0              0   \n",
       "4                       0                 0              0              0   \n",
       "6                       0                 0              0              0   \n",
       "8                     114               152              0              0   \n",
       "...                   ...               ...            ...            ...   \n",
       "1048495                 0                 0              2              6   \n",
       "1048524                 0                 0              0              1   \n",
       "1048525                 0                 0              0             12   \n",
       "1048529                 0                 0              0              0   \n",
       "1048572                 0                 0              0              0   \n",
       "\n",
       "         sales_6_month  ...  pieces_past_due  perf_6_month_avg  \\\n",
       "0                    0  ...                0             -99.0   \n",
       "2                    0  ...                0             -99.0   \n",
       "4                    0  ...                0             -99.0   \n",
       "6                    0  ...                0             -99.0   \n",
       "8                    0  ...                0             -99.0   \n",
       "...                ...  ...              ...               ...   \n",
       "1048495              9  ...                0             -99.0   \n",
       "1048524              3  ...                0             -99.0   \n",
       "1048525             33  ...                0             -99.0   \n",
       "1048529              0  ...                0             -99.0   \n",
       "1048572              0  ...                0             -99.0   \n",
       "\n",
       "        perf_12_month_avg  local_bo_qty  deck_risk  oe_constraint  ppap_risk  \\\n",
       "0                   -99.0             0         No             No         No   \n",
       "2                   -99.0             0        Yes             No         No   \n",
       "4                   -99.0             0        Yes             No         No   \n",
       "6                   -99.0             0        Yes             No         No   \n",
       "8                   -99.0             0         No             No         No   \n",
       "...                   ...           ...        ...            ...        ...   \n",
       "1048495             -99.0             0         No             No         No   \n",
       "1048524             -99.0             0        Yes             No         No   \n",
       "1048525             -99.0             0        Yes             No         No   \n",
       "1048529             -99.0             0        Yes             No         No   \n",
       "1048572             -99.0             0         No             No        Yes   \n",
       "\n",
       "        stop_auto_buy rev_stop went_on_backorder  \n",
       "0                 Yes       No                No  \n",
       "2                 Yes       No                No  \n",
       "4                 Yes       No                No  \n",
       "6                 Yes       No                No  \n",
       "8                 Yes       No                No  \n",
       "...               ...      ...               ...  \n",
       "1048495           Yes       No                No  \n",
       "1048524           Yes       No                No  \n",
       "1048525           Yes       No                No  \n",
       "1048529            No       No                No  \n",
       "1048572           Yes       No                No  \n",
       "\n",
       "[64518 rows x 23 columns]"
      ]
     },
     "execution_count": 7,
     "metadata": {},
     "output_type": "execute_result"
    }
   ],
   "source": [
    "raw_csv_data[raw_csv_data.isnull().any(axis=1)]"
   ]
  },
  {
   "cell_type": "markdown",
   "metadata": {},
   "source": [
    "- Descriptive statistics of **numerical** features."
   ]
  },
  {
   "cell_type": "code",
   "execution_count": 8,
   "metadata": {},
   "outputs": [
    {
     "data": {
      "text/html": [
       "<div>\n",
       "<style scoped>\n",
       "    .dataframe tbody tr th:only-of-type {\n",
       "        vertical-align: middle;\n",
       "    }\n",
       "\n",
       "    .dataframe tbody tr th {\n",
       "        vertical-align: top;\n",
       "    }\n",
       "\n",
       "    .dataframe thead th {\n",
       "        text-align: right;\n",
       "    }\n",
       "</style>\n",
       "<table border=\"1\" class=\"dataframe\">\n",
       "  <thead>\n",
       "    <tr style=\"text-align: right;\">\n",
       "      <th></th>\n",
       "      <th>sku</th>\n",
       "      <th>national_inv</th>\n",
       "      <th>lead_time</th>\n",
       "      <th>in_transit_qty</th>\n",
       "      <th>forecast_3_month</th>\n",
       "      <th>forecast_6_month</th>\n",
       "      <th>forecast_9_month</th>\n",
       "      <th>sales_1_month</th>\n",
       "      <th>sales_3_month</th>\n",
       "      <th>sales_6_month</th>\n",
       "      <th>sales_9_month</th>\n",
       "      <th>min_bank</th>\n",
       "      <th>pieces_past_due</th>\n",
       "      <th>perf_6_month_avg</th>\n",
       "      <th>perf_12_month_avg</th>\n",
       "      <th>local_bo_qty</th>\n",
       "    </tr>\n",
       "  </thead>\n",
       "  <tbody>\n",
       "    <tr>\n",
       "      <th>count</th>\n",
       "      <td>1048575.000000</td>\n",
       "      <td>1048575.000000</td>\n",
       "      <td>984057.000000</td>\n",
       "      <td>1048575.000000</td>\n",
       "      <td>1048575.000000</td>\n",
       "      <td>1048575.000000</td>\n",
       "      <td>1048575.000000</td>\n",
       "      <td>1048575.000000</td>\n",
       "      <td>1048575.000000</td>\n",
       "      <td>1048575.000000</td>\n",
       "      <td>1048575.000000</td>\n",
       "      <td>1048575.000000</td>\n",
       "      <td>1048575.000000</td>\n",
       "      <td>1048575.000000</td>\n",
       "      <td>1048575.000000</td>\n",
       "      <td>1048575.000000</td>\n",
       "    </tr>\n",
       "    <tr>\n",
       "      <th>mean</th>\n",
       "      <td>1773693.319959</td>\n",
       "      <td>489.418342</td>\n",
       "      <td>7.841783</td>\n",
       "      <td>45.356948</td>\n",
       "      <td>185.225526</td>\n",
       "      <td>360.883497</td>\n",
       "      <td>528.913850</td>\n",
       "      <td>57.301500</td>\n",
       "      <td>180.461338</td>\n",
       "      <td>352.463327</td>\n",
       "      <td>544.330939</td>\n",
       "      <td>54.137190</td>\n",
       "      <td>3.289722</td>\n",
       "      <td>-7.049983</td>\n",
       "      <td>-6.618981</td>\n",
       "      <td>0.632404</td>\n",
       "    </tr>\n",
       "    <tr>\n",
       "      <th>std</th>\n",
       "      <td>399577.243008</td>\n",
       "      <td>28595.829835</td>\n",
       "      <td>7.037158</td>\n",
       "      <td>1390.535481</td>\n",
       "      <td>5032.302441</td>\n",
       "      <td>10067.640659</td>\n",
       "      <td>14895.451355</td>\n",
       "      <td>2067.927316</td>\n",
       "      <td>5263.480609</td>\n",
       "      <td>9773.353661</td>\n",
       "      <td>15195.645475</td>\n",
       "      <td>1244.245000</td>\n",
       "      <td>299.433907</td>\n",
       "      <td>26.836847</td>\n",
       "      <td>26.137658</td>\n",
       "      <td>35.177677</td>\n",
       "    </tr>\n",
       "    <tr>\n",
       "      <th>min</th>\n",
       "      <td>1026827.000000</td>\n",
       "      <td>-13491.000000</td>\n",
       "      <td>0.000000</td>\n",
       "      <td>0.000000</td>\n",
       "      <td>0.000000</td>\n",
       "      <td>0.000000</td>\n",
       "      <td>0.000000</td>\n",
       "      <td>0.000000</td>\n",
       "      <td>0.000000</td>\n",
       "      <td>0.000000</td>\n",
       "      <td>0.000000</td>\n",
       "      <td>0.000000</td>\n",
       "      <td>0.000000</td>\n",
       "      <td>-99.000000</td>\n",
       "      <td>-99.000000</td>\n",
       "      <td>0.000000</td>\n",
       "    </tr>\n",
       "    <tr>\n",
       "      <th>20%</th>\n",
       "      <td>1321234.800000</td>\n",
       "      <td>3.000000</td>\n",
       "      <td>2.000000</td>\n",
       "      <td>0.000000</td>\n",
       "      <td>0.000000</td>\n",
       "      <td>0.000000</td>\n",
       "      <td>0.000000</td>\n",
       "      <td>0.000000</td>\n",
       "      <td>0.000000</td>\n",
       "      <td>0.000000</td>\n",
       "      <td>0.000000</td>\n",
       "      <td>0.000000</td>\n",
       "      <td>0.000000</td>\n",
       "      <td>0.540000</td>\n",
       "      <td>0.560000</td>\n",
       "      <td>0.000000</td>\n",
       "    </tr>\n",
       "    <tr>\n",
       "      <th>40%</th>\n",
       "      <td>1705988.600000</td>\n",
       "      <td>9.000000</td>\n",
       "      <td>8.000000</td>\n",
       "      <td>0.000000</td>\n",
       "      <td>0.000000</td>\n",
       "      <td>0.000000</td>\n",
       "      <td>0.000000</td>\n",
       "      <td>0.000000</td>\n",
       "      <td>0.000000</td>\n",
       "      <td>1.000000</td>\n",
       "      <td>1.000000</td>\n",
       "      <td>0.000000</td>\n",
       "      <td>0.000000</td>\n",
       "      <td>0.760000</td>\n",
       "      <td>0.780000</td>\n",
       "      <td>0.000000</td>\n",
       "    </tr>\n",
       "    <tr>\n",
       "      <th>50%</th>\n",
       "      <td>1810846.000000</td>\n",
       "      <td>15.000000</td>\n",
       "      <td>8.000000</td>\n",
       "      <td>0.000000</td>\n",
       "      <td>0.000000</td>\n",
       "      <td>0.000000</td>\n",
       "      <td>0.000000</td>\n",
       "      <td>0.000000</td>\n",
       "      <td>1.000000</td>\n",
       "      <td>2.000000</td>\n",
       "      <td>4.000000</td>\n",
       "      <td>0.000000</td>\n",
       "      <td>0.000000</td>\n",
       "      <td>0.820000</td>\n",
       "      <td>0.800000</td>\n",
       "      <td>0.000000</td>\n",
       "    </tr>\n",
       "    <tr>\n",
       "      <th>60%</th>\n",
       "      <td>1915703.400000</td>\n",
       "      <td>27.000000</td>\n",
       "      <td>8.000000</td>\n",
       "      <td>0.000000</td>\n",
       "      <td>0.000000</td>\n",
       "      <td>0.000000</td>\n",
       "      <td>0.000000</td>\n",
       "      <td>1.000000</td>\n",
       "      <td>3.000000</td>\n",
       "      <td>7.000000</td>\n",
       "      <td>10.000000</td>\n",
       "      <td>1.000000</td>\n",
       "      <td>0.000000</td>\n",
       "      <td>0.890000</td>\n",
       "      <td>0.870000</td>\n",
       "      <td>0.000000</td>\n",
       "    </tr>\n",
       "    <tr>\n",
       "      <th>80%</th>\n",
       "      <td>2125418.200000</td>\n",
       "      <td>119.200000</td>\n",
       "      <td>9.000000</td>\n",
       "      <td>1.000000</td>\n",
       "      <td>12.000000</td>\n",
       "      <td>30.000000</td>\n",
       "      <td>50.000000</td>\n",
       "      <td>8.000000</td>\n",
       "      <td>28.000000</td>\n",
       "      <td>57.000000</td>\n",
       "      <td>87.000000</td>\n",
       "      <td>11.000000</td>\n",
       "      <td>0.000000</td>\n",
       "      <td>0.980000</td>\n",
       "      <td>0.960000</td>\n",
       "      <td>0.000000</td>\n",
       "    </tr>\n",
       "    <tr>\n",
       "      <th>max</th>\n",
       "      <td>3284914.000000</td>\n",
       "      <td>12334404.000000</td>\n",
       "      <td>52.000000</td>\n",
       "      <td>489408.000000</td>\n",
       "      <td>1218328.000000</td>\n",
       "      <td>2461360.000000</td>\n",
       "      <td>3777304.000000</td>\n",
       "      <td>741774.000000</td>\n",
       "      <td>1094112.000000</td>\n",
       "      <td>2146625.000000</td>\n",
       "      <td>3201035.000000</td>\n",
       "      <td>313319.000000</td>\n",
       "      <td>146496.000000</td>\n",
       "      <td>1.000000</td>\n",
       "      <td>1.000000</td>\n",
       "      <td>12530.000000</td>\n",
       "    </tr>\n",
       "  </tbody>\n",
       "</table>\n",
       "</div>"
      ],
      "text/plain": [
       "                  sku     national_inv      lead_time  in_transit_qty  \\\n",
       "count  1048575.000000   1048575.000000  984057.000000  1048575.000000   \n",
       "mean   1773693.319959       489.418342       7.841783       45.356948   \n",
       "std     399577.243008     28595.829835       7.037158     1390.535481   \n",
       "min    1026827.000000    -13491.000000       0.000000        0.000000   \n",
       "20%    1321234.800000         3.000000       2.000000        0.000000   \n",
       "40%    1705988.600000         9.000000       8.000000        0.000000   \n",
       "50%    1810846.000000        15.000000       8.000000        0.000000   \n",
       "60%    1915703.400000        27.000000       8.000000        0.000000   \n",
       "80%    2125418.200000       119.200000       9.000000        1.000000   \n",
       "max    3284914.000000  12334404.000000      52.000000   489408.000000   \n",
       "\n",
       "      forecast_3_month forecast_6_month forecast_9_month   sales_1_month  \\\n",
       "count   1048575.000000   1048575.000000   1048575.000000  1048575.000000   \n",
       "mean        185.225526       360.883497       528.913850       57.301500   \n",
       "std        5032.302441     10067.640659     14895.451355     2067.927316   \n",
       "min           0.000000         0.000000         0.000000        0.000000   \n",
       "20%           0.000000         0.000000         0.000000        0.000000   \n",
       "40%           0.000000         0.000000         0.000000        0.000000   \n",
       "50%           0.000000         0.000000         0.000000        0.000000   \n",
       "60%           0.000000         0.000000         0.000000        1.000000   \n",
       "80%          12.000000        30.000000        50.000000        8.000000   \n",
       "max     1218328.000000   2461360.000000   3777304.000000   741774.000000   \n",
       "\n",
       "        sales_3_month   sales_6_month   sales_9_month        min_bank  \\\n",
       "count  1048575.000000  1048575.000000  1048575.000000  1048575.000000   \n",
       "mean       180.461338      352.463327      544.330939       54.137190   \n",
       "std       5263.480609     9773.353661    15195.645475     1244.245000   \n",
       "min          0.000000        0.000000        0.000000        0.000000   \n",
       "20%          0.000000        0.000000        0.000000        0.000000   \n",
       "40%          0.000000        1.000000        1.000000        0.000000   \n",
       "50%          1.000000        2.000000        4.000000        0.000000   \n",
       "60%          3.000000        7.000000       10.000000        1.000000   \n",
       "80%         28.000000       57.000000       87.000000       11.000000   \n",
       "max    1094112.000000  2146625.000000  3201035.000000   313319.000000   \n",
       "\n",
       "      pieces_past_due perf_6_month_avg perf_12_month_avg    local_bo_qty  \n",
       "count  1048575.000000   1048575.000000    1048575.000000  1048575.000000  \n",
       "mean         3.289722        -7.049983         -6.618981        0.632404  \n",
       "std        299.433907        26.836847         26.137658       35.177677  \n",
       "min          0.000000       -99.000000        -99.000000        0.000000  \n",
       "20%          0.000000         0.540000          0.560000        0.000000  \n",
       "40%          0.000000         0.760000          0.780000        0.000000  \n",
       "50%          0.000000         0.820000          0.800000        0.000000  \n",
       "60%          0.000000         0.890000          0.870000        0.000000  \n",
       "80%          0.000000         0.980000          0.960000        0.000000  \n",
       "max     146496.000000         1.000000          1.000000    12530.000000  "
      ]
     },
     "execution_count": 8,
     "metadata": {},
     "output_type": "execute_result"
    }
   ],
   "source": [
    "perc =[.20, .40, .60, .80] \n",
    "\n",
    "raw_csv_data.describe(percentiles = perc, exclude = ['O']).apply(lambda s: s.apply(lambda x: format(x, 'f')))"
   ]
  },
  {
   "cell_type": "markdown",
   "metadata": {},
   "source": [
    "- Descriptive statistics of **categorical** features."
   ]
  },
  {
   "cell_type": "code",
   "execution_count": 9,
   "metadata": {},
   "outputs": [
    {
     "data": {
      "text/html": [
       "<div>\n",
       "<style scoped>\n",
       "    .dataframe tbody tr th:only-of-type {\n",
       "        vertical-align: middle;\n",
       "    }\n",
       "\n",
       "    .dataframe tbody tr th {\n",
       "        vertical-align: top;\n",
       "    }\n",
       "\n",
       "    .dataframe thead th {\n",
       "        text-align: right;\n",
       "    }\n",
       "</style>\n",
       "<table border=\"1\" class=\"dataframe\">\n",
       "  <thead>\n",
       "    <tr style=\"text-align: right;\">\n",
       "      <th></th>\n",
       "      <th>potential_issue</th>\n",
       "      <th>deck_risk</th>\n",
       "      <th>oe_constraint</th>\n",
       "      <th>ppap_risk</th>\n",
       "      <th>stop_auto_buy</th>\n",
       "      <th>rev_stop</th>\n",
       "      <th>went_on_backorder</th>\n",
       "    </tr>\n",
       "  </thead>\n",
       "  <tbody>\n",
       "    <tr>\n",
       "      <th>count</th>\n",
       "      <td>1048575</td>\n",
       "      <td>1048575</td>\n",
       "      <td>1048575</td>\n",
       "      <td>1048575</td>\n",
       "      <td>1048575</td>\n",
       "      <td>1048575</td>\n",
       "      <td>1048575</td>\n",
       "    </tr>\n",
       "    <tr>\n",
       "      <th>unique</th>\n",
       "      <td>2</td>\n",
       "      <td>2</td>\n",
       "      <td>2</td>\n",
       "      <td>2</td>\n",
       "      <td>2</td>\n",
       "      <td>2</td>\n",
       "      <td>2</td>\n",
       "    </tr>\n",
       "    <tr>\n",
       "      <th>top</th>\n",
       "      <td>No</td>\n",
       "      <td>No</td>\n",
       "      <td>No</td>\n",
       "      <td>No</td>\n",
       "      <td>Yes</td>\n",
       "      <td>No</td>\n",
       "      <td>No</td>\n",
       "    </tr>\n",
       "    <tr>\n",
       "      <th>freq</th>\n",
       "      <td>1047903</td>\n",
       "      <td>795558</td>\n",
       "      <td>1048416</td>\n",
       "      <td>921111</td>\n",
       "      <td>1011639</td>\n",
       "      <td>1048117</td>\n",
       "      <td>1039675</td>\n",
       "    </tr>\n",
       "  </tbody>\n",
       "</table>\n",
       "</div>"
      ],
      "text/plain": [
       "       potential_issue deck_risk oe_constraint ppap_risk stop_auto_buy  \\\n",
       "count          1048575   1048575       1048575   1048575       1048575   \n",
       "unique               2         2             2         2             2   \n",
       "top                 No        No            No        No           Yes   \n",
       "freq           1047903    795558       1048416    921111       1011639   \n",
       "\n",
       "       rev_stop went_on_backorder  \n",
       "count   1048575           1048575  \n",
       "unique        2                 2  \n",
       "top          No                No  \n",
       "freq    1048117           1039675  "
      ]
     },
     "execution_count": 9,
     "metadata": {},
     "output_type": "execute_result"
    }
   ],
   "source": [
    "raw_csv_data.describe(include=['O'])"
   ]
  },
  {
   "cell_type": "markdown",
   "metadata": {},
   "source": [
    "## 4. Data Cleaning"
   ]
  },
  {
   "cell_type": "markdown",
   "metadata": {},
   "source": [
    "- Filling null values of \"lead_time\" feature."
   ]
  },
  {
   "cell_type": "code",
   "execution_count": 10,
   "metadata": {},
   "outputs": [],
   "source": [
    "raw_csv_data = raw_csv_data.fillna(0)"
   ]
  },
  {
   "cell_type": "markdown",
   "metadata": {},
   "source": [
    "- Checking if the missing values were filled."
   ]
  },
  {
   "cell_type": "code",
   "execution_count": 11,
   "metadata": {},
   "outputs": [
    {
     "data": {
      "text/html": [
       "<div>\n",
       "<style scoped>\n",
       "    .dataframe tbody tr th:only-of-type {\n",
       "        vertical-align: middle;\n",
       "    }\n",
       "\n",
       "    .dataframe tbody tr th {\n",
       "        vertical-align: top;\n",
       "    }\n",
       "\n",
       "    .dataframe thead th {\n",
       "        text-align: right;\n",
       "    }\n",
       "</style>\n",
       "<table border=\"1\" class=\"dataframe\">\n",
       "  <thead>\n",
       "    <tr style=\"text-align: right;\">\n",
       "      <th></th>\n",
       "      <th>sku</th>\n",
       "      <th>national_inv</th>\n",
       "      <th>lead_time</th>\n",
       "      <th>in_transit_qty</th>\n",
       "      <th>forecast_3_month</th>\n",
       "      <th>forecast_6_month</th>\n",
       "      <th>forecast_9_month</th>\n",
       "      <th>sales_1_month</th>\n",
       "      <th>sales_3_month</th>\n",
       "      <th>sales_6_month</th>\n",
       "      <th>...</th>\n",
       "      <th>pieces_past_due</th>\n",
       "      <th>perf_6_month_avg</th>\n",
       "      <th>perf_12_month_avg</th>\n",
       "      <th>local_bo_qty</th>\n",
       "      <th>deck_risk</th>\n",
       "      <th>oe_constraint</th>\n",
       "      <th>ppap_risk</th>\n",
       "      <th>stop_auto_buy</th>\n",
       "      <th>rev_stop</th>\n",
       "      <th>went_on_backorder</th>\n",
       "    </tr>\n",
       "  </thead>\n",
       "  <tbody>\n",
       "  </tbody>\n",
       "</table>\n",
       "<p>0 rows × 23 columns</p>\n",
       "</div>"
      ],
      "text/plain": [
       "Empty DataFrame\n",
       "Columns: [sku, national_inv, lead_time, in_transit_qty, forecast_3_month, forecast_6_month, forecast_9_month, sales_1_month, sales_3_month, sales_6_month, sales_9_month, min_bank, potential_issue, pieces_past_due, perf_6_month_avg, perf_12_month_avg, local_bo_qty, deck_risk, oe_constraint, ppap_risk, stop_auto_buy, rev_stop, went_on_backorder]\n",
       "Index: []\n",
       "\n",
       "[0 rows x 23 columns]"
      ]
     },
     "execution_count": 11,
     "metadata": {},
     "output_type": "execute_result"
    }
   ],
   "source": [
    "raw_csv_data[raw_csv_data.isnull().any(axis=1)]"
   ]
  },
  {
   "cell_type": "markdown",
   "metadata": {},
   "source": [
    "- Removing the feature **\"sku\"** which represents the unique identifier of a product and it will not be considered when applying the model."
   ]
  },
  {
   "cell_type": "code",
   "execution_count": 12,
   "metadata": {},
   "outputs": [],
   "source": [
    "raw_csv_data.drop(['sku'], axis=1,inplace=True)"
   ]
  },
  {
   "cell_type": "markdown",
   "metadata": {},
   "source": [
    "## 5. Feature Selection"
   ]
  },
  {
   "cell_type": "markdown",
   "metadata": {},
   "source": [
    "Adding **\"perc_sales_1m_over_3m\"**, **\"perc_sales_1m_over_6m\"** and **\"perc_sales_1m_over_9m\"** features based on **\"sales_1_month\"**, **\"sales_3_month\"** and **\"sales_6_month\"** features. These extra features will give more information to the model."
   ]
  },
  {
   "cell_type": "markdown",
   "metadata": {},
   "source": [
    "- The **\"perc_sales_1m_over_3m\"** feature represents the percentage of sales from the last month (**\"sales_1_month\"** feature) to over the last 3 months (**\"sales_3_month\"** feature)."
   ]
  },
  {
   "cell_type": "code",
   "execution_count": 13,
   "metadata": {},
   "outputs": [],
   "source": [
    "def f1(row):\n",
    "    if row['sales_3_month'] >0:\n",
    "        val = row['sales_1_month']/row['sales_3_month']\n",
    "    elif row['sales_1_month'] ==0 & row['sales_3_month'] ==0:\n",
    "        val = 0\n",
    "    return val"
   ]
  },
  {
   "cell_type": "code",
   "execution_count": 14,
   "metadata": {},
   "outputs": [],
   "source": [
    "raw_csv_data['perc_sales_1m_over_3m'] = raw_csv_data.apply(f1, axis=1)"
   ]
  },
  {
   "cell_type": "markdown",
   "metadata": {},
   "source": [
    "- The **\"perc_sales_1m_over_6m\"** feature represents the percentage of sales from the last month (**\"sales_1_month\"** feature) to over the last 6 months (**\"sales_6_month\"** feature)."
   ]
  },
  {
   "cell_type": "code",
   "execution_count": 15,
   "metadata": {},
   "outputs": [],
   "source": [
    "def f2(row):\n",
    "    if row['sales_6_month'] >0:\n",
    "        val = row['sales_1_month']/row['sales_6_month']\n",
    "    elif row['sales_1_month'] ==0 & row['sales_6_month'] ==0:\n",
    "        val = 0\n",
    "    return val"
   ]
  },
  {
   "cell_type": "code",
   "execution_count": 16,
   "metadata": {},
   "outputs": [],
   "source": [
    "raw_csv_data['perc_sales_1m_over_6m'] = raw_csv_data.apply(f2, axis=1)"
   ]
  },
  {
   "cell_type": "markdown",
   "metadata": {},
   "source": [
    "- The **\"perc_sales_1m_over_9m\"** feature represents the percentage of sales from the last month (**\"sales_1_month\"** feature) to over the last 9 months (**\"sales_9_month\"** feature)."
   ]
  },
  {
   "cell_type": "code",
   "execution_count": 17,
   "metadata": {},
   "outputs": [],
   "source": [
    "def f3(row):\n",
    "    if row['sales_9_month'] >0:\n",
    "        val = row['sales_1_month']/row['sales_9_month']\n",
    "    elif row['sales_1_month'] ==0 & row['sales_9_month'] ==0:\n",
    "        val = 0\n",
    "    return val"
   ]
  },
  {
   "cell_type": "code",
   "execution_count": 18,
   "metadata": {},
   "outputs": [],
   "source": [
    "raw_csv_data['perc_sales_1m_over_9m'] = raw_csv_data.apply(f3, axis=1)"
   ]
  },
  {
   "cell_type": "markdown",
   "metadata": {},
   "source": [
    "- Checking the addition of **\"perc_sales_1m_over_3m\"**, **\"perc_sales_1m_over_6m\"**, **\"perc_sales_1m_over_9m\"** in the dataset."
   ]
  },
  {
   "cell_type": "code",
   "execution_count": 19,
   "metadata": {},
   "outputs": [
    {
     "data": {
      "text/html": [
       "<div>\n",
       "<style scoped>\n",
       "    .dataframe tbody tr th:only-of-type {\n",
       "        vertical-align: middle;\n",
       "    }\n",
       "\n",
       "    .dataframe tbody tr th {\n",
       "        vertical-align: top;\n",
       "    }\n",
       "\n",
       "    .dataframe thead th {\n",
       "        text-align: right;\n",
       "    }\n",
       "</style>\n",
       "<table border=\"1\" class=\"dataframe\">\n",
       "  <thead>\n",
       "    <tr style=\"text-align: right;\">\n",
       "      <th></th>\n",
       "      <th>perc_sales_1m_over_3m</th>\n",
       "      <th>perc_sales_1m_over_6m</th>\n",
       "      <th>perc_sales_1m_over_9m</th>\n",
       "    </tr>\n",
       "  </thead>\n",
       "  <tbody>\n",
       "    <tr>\n",
       "      <th>805432</th>\n",
       "      <td>0.000000</td>\n",
       "      <td>0.000000</td>\n",
       "      <td>0.000000</td>\n",
       "    </tr>\n",
       "    <tr>\n",
       "      <th>714249</th>\n",
       "      <td>0.000000</td>\n",
       "      <td>0.000000</td>\n",
       "      <td>0.000000</td>\n",
       "    </tr>\n",
       "    <tr>\n",
       "      <th>559735</th>\n",
       "      <td>0.000000</td>\n",
       "      <td>0.000000</td>\n",
       "      <td>0.000000</td>\n",
       "    </tr>\n",
       "    <tr>\n",
       "      <th>813544</th>\n",
       "      <td>0.173913</td>\n",
       "      <td>0.057971</td>\n",
       "      <td>0.033898</td>\n",
       "    </tr>\n",
       "    <tr>\n",
       "      <th>450560</th>\n",
       "      <td>0.380282</td>\n",
       "      <td>0.225000</td>\n",
       "      <td>0.152542</td>\n",
       "    </tr>\n",
       "    <tr>\n",
       "      <th>964847</th>\n",
       "      <td>0.000000</td>\n",
       "      <td>0.000000</td>\n",
       "      <td>0.000000</td>\n",
       "    </tr>\n",
       "    <tr>\n",
       "      <th>554094</th>\n",
       "      <td>0.000000</td>\n",
       "      <td>0.000000</td>\n",
       "      <td>0.000000</td>\n",
       "    </tr>\n",
       "    <tr>\n",
       "      <th>692859</th>\n",
       "      <td>0.000000</td>\n",
       "      <td>0.000000</td>\n",
       "      <td>0.000000</td>\n",
       "    </tr>\n",
       "    <tr>\n",
       "      <th>564754</th>\n",
       "      <td>0.000000</td>\n",
       "      <td>0.000000</td>\n",
       "      <td>0.000000</td>\n",
       "    </tr>\n",
       "    <tr>\n",
       "      <th>777583</th>\n",
       "      <td>0.368421</td>\n",
       "      <td>0.269231</td>\n",
       "      <td>0.225806</td>\n",
       "    </tr>\n",
       "  </tbody>\n",
       "</table>\n",
       "</div>"
      ],
      "text/plain": [
       "        perc_sales_1m_over_3m  perc_sales_1m_over_6m  perc_sales_1m_over_9m\n",
       "805432               0.000000               0.000000               0.000000\n",
       "714249               0.000000               0.000000               0.000000\n",
       "559735               0.000000               0.000000               0.000000\n",
       "813544               0.173913               0.057971               0.033898\n",
       "450560               0.380282               0.225000               0.152542\n",
       "964847               0.000000               0.000000               0.000000\n",
       "554094               0.000000               0.000000               0.000000\n",
       "692859               0.000000               0.000000               0.000000\n",
       "564754               0.000000               0.000000               0.000000\n",
       "777583               0.368421               0.269231               0.225806"
      ]
     },
     "execution_count": 19,
     "metadata": {},
     "output_type": "execute_result"
    }
   ],
   "source": [
    "raw_csv_data[['perc_sales_1m_over_3m','perc_sales_1m_over_6m','perc_sales_1m_over_9m']].sample(10)"
   ]
  },
  {
   "cell_type": "markdown",
   "metadata": {},
   "source": [
    "- Resorting the columns in the dataframe."
   ]
  },
  {
   "cell_type": "code",
   "execution_count": 20,
   "metadata": {},
   "outputs": [
    {
     "data": {
      "text/plain": [
       "['national_inv',\n",
       " 'lead_time',\n",
       " 'in_transit_qty',\n",
       " 'forecast_3_month',\n",
       " 'forecast_6_month',\n",
       " 'forecast_9_month',\n",
       " 'sales_1_month',\n",
       " 'sales_3_month',\n",
       " 'sales_6_month',\n",
       " 'sales_9_month',\n",
       " 'min_bank',\n",
       " 'potential_issue',\n",
       " 'pieces_past_due',\n",
       " 'perf_6_month_avg',\n",
       " 'perf_12_month_avg',\n",
       " 'local_bo_qty',\n",
       " 'deck_risk',\n",
       " 'oe_constraint',\n",
       " 'ppap_risk',\n",
       " 'stop_auto_buy',\n",
       " 'rev_stop',\n",
       " 'went_on_backorder',\n",
       " 'perc_sales_1m_over_3m',\n",
       " 'perc_sales_1m_over_6m',\n",
       " 'perc_sales_1m_over_9m']"
      ]
     },
     "execution_count": 20,
     "metadata": {},
     "output_type": "execute_result"
    }
   ],
   "source": [
    "list(raw_csv_data.columns.values.tolist())"
   ]
  },
  {
   "cell_type": "markdown",
   "metadata": {},
   "source": [
    "- Applying the new feature order in the dataset."
   ]
  },
  {
   "cell_type": "code",
   "execution_count": 21,
   "metadata": {},
   "outputs": [],
   "source": [
    "raw_csv_data = raw_csv_data[['national_inv', 'lead_time', 'in_transit_qty', 'forecast_3_month',\n",
    "                             'forecast_6_month', 'forecast_9_month', 'sales_1_month', 'sales_3_month',\n",
    "                             'sales_6_month', 'sales_9_month', 'perc_sales_1m_over_3m', 'perc_sales_1m_over_6m',\n",
    "                             'perc_sales_1m_over_9m', 'min_bank', 'potential_issue', 'pieces_past_due', \n",
    "                             'perf_6_month_avg', 'perf_12_month_avg', 'local_bo_qty', 'deck_risk',\n",
    "                             'oe_constraint', 'ppap_risk', 'stop_auto_buy', 'rev_stop', 'went_on_backorder']]"
   ]
  },
  {
   "cell_type": "markdown",
   "metadata": {},
   "source": [
    "- Checking the new order of features in the dataset."
   ]
  },
  {
   "cell_type": "code",
   "execution_count": 22,
   "metadata": {},
   "outputs": [
    {
     "data": {
      "text/plain": [
       "Index(['national_inv', 'lead_time', 'in_transit_qty', 'forecast_3_month',\n",
       "       'forecast_6_month', 'forecast_9_month', 'sales_1_month',\n",
       "       'sales_3_month', 'sales_6_month', 'sales_9_month',\n",
       "       'perc_sales_1m_over_3m', 'perc_sales_1m_over_6m',\n",
       "       'perc_sales_1m_over_9m', 'min_bank', 'potential_issue',\n",
       "       'pieces_past_due', 'perf_6_month_avg', 'perf_12_month_avg',\n",
       "       'local_bo_qty', 'deck_risk', 'oe_constraint', 'ppap_risk',\n",
       "       'stop_auto_buy', 'rev_stop', 'went_on_backorder'],\n",
       "      dtype='object')"
      ]
     },
     "execution_count": 22,
     "metadata": {},
     "output_type": "execute_result"
    }
   ],
   "source": [
    "raw_csv_data.columns"
   ]
  },
  {
   "cell_type": "markdown",
   "metadata": {},
   "source": [
    "## 6. Balancing"
   ]
  },
  {
   "cell_type": "markdown",
   "metadata": {},
   "source": [
    "- The dataset is unbalanced. The target variable (**\"went_on_backorder\"** feature) has much more **negative** than **positive** classes."
   ]
  },
  {
   "cell_type": "code",
   "execution_count": 23,
   "metadata": {},
   "outputs": [
    {
     "data": {
      "text/plain": [
       "went_on_backorder\n",
       "No     1039675\n",
       "Yes       8900\n",
       "Name: went_on_backorder, dtype: int64"
      ]
     },
     "execution_count": 23,
     "metadata": {},
     "output_type": "execute_result"
    }
   ],
   "source": [
    "raw_csv_data.groupby(['went_on_backorder'])['went_on_backorder'].count().sort_values(ascending=False)"
   ]
  },
  {
   "cell_type": "markdown",
   "metadata": {},
   "source": [
    "- Ploting the balance of target variable (**\"went_on_backorder\"** feature)."
   ]
  },
  {
   "cell_type": "code",
   "execution_count": 24,
   "metadata": {
    "scrolled": true
   },
   "outputs": [
    {
     "data": {
      "image/png": "[encoded data removed]",
      "text/plain": [
       "<Figure size 720x360 with 1 Axes>"
      ]
     },
     "metadata": {
      "needs_background": "light"
     },
     "output_type": "display_data"
    }
   ],
   "source": [
    "# Defining the figure of the plot and axes\n",
    "fig, ax = plt.subplots(figsize=(10,5))\n",
    "\n",
    "# Defining plot parameters\n",
    "ax.set_title('Balance of Target Variable (went_on_backorder)', fontsize=16)\n",
    "\n",
    "# Ploting\n",
    "sns.countplot(raw_csv_data['went_on_backorder'],palette='hls')\n",
    "\n",
    "# Saving the plot\n",
    "plt.savefig(path_figures + 'backorder_balance_binary.png', bbox_inches='tight')\n",
    "\n",
    "plt.show()"
   ]
  },
  {
   "cell_type": "markdown",
   "metadata": {},
   "source": [
    "- Splitting original dataset to have a **test data** for all experiments for addressing the imbalanced data (10% of the original dataset)."
   ]
  },
  {
   "cell_type": "code",
   "execution_count": 25,
   "metadata": {},
   "outputs": [],
   "source": [
    "raw_csv_data_test_for_all = raw_csv_data.sample(frac=0.1, random_state=123)"
   ]
  },
  {
   "cell_type": "markdown",
   "metadata": {},
   "source": [
    "- Removing the **test data** from **original** dataset."
   ]
  },
  {
   "cell_type": "code",
   "execution_count": 26,
   "metadata": {},
   "outputs": [],
   "source": [
    "raw_csv_data_90_towork = raw_csv_data.loc[~raw_csv_data.index.isin(raw_csv_data_test_for_all.index), :]"
   ]
  },
  {
   "cell_type": "markdown",
   "metadata": {},
   "source": [
    "- Checking the balance and size of new test dataset (10% of the **original** dataset)."
   ]
  },
  {
   "cell_type": "code",
   "execution_count": 27,
   "metadata": {},
   "outputs": [
    {
     "data": {
      "text/plain": [
       "went_on_backorder\n",
       "No     103959\n",
       "Yes       899\n",
       "Name: went_on_backorder, dtype: int64"
      ]
     },
     "execution_count": 27,
     "metadata": {},
     "output_type": "execute_result"
    }
   ],
   "source": [
    "raw_csv_data_test_for_all.groupby(['went_on_backorder'])['went_on_backorder'].count().sort_values(ascending=False)"
   ]
  },
  {
   "cell_type": "markdown",
   "metadata": {},
   "source": [
    "- Checking the balance and size of the **original** dataset without test data (10% of the original dataset)."
   ]
  },
  {
   "cell_type": "code",
   "execution_count": 28,
   "metadata": {},
   "outputs": [
    {
     "data": {
      "text/plain": [
       "went_on_backorder\n",
       "No     935716\n",
       "Yes      8001\n",
       "Name: went_on_backorder, dtype: int64"
      ]
     },
     "execution_count": 28,
     "metadata": {},
     "output_type": "execute_result"
    }
   ],
   "source": [
    "raw_csv_data_90_towork.groupby(['went_on_backorder'])['went_on_backorder'].count().sort_values(ascending=False)"
   ]
  },
  {
   "cell_type": "markdown",
   "metadata": {},
   "source": [
    "- Applying down sample and up sample approach to balance the **original** dataset."
   ]
  },
  {
   "cell_type": "code",
   "execution_count": 29,
   "metadata": {},
   "outputs": [],
   "source": [
    "from sklearn.utils import resample"
   ]
  },
  {
   "cell_type": "markdown",
   "metadata": {},
   "source": [
    "- Dividing **original** dataset between each value of targets (\"Yes\" and \"No\")."
   ]
  },
  {
   "cell_type": "code",
   "execution_count": 30,
   "metadata": {},
   "outputs": [
    {
     "name": "stderr",
     "output_type": "stream",
     "text": [
      "C:\\Users\\Bruno\\Anaconda3\\envs\\py3-TF2.0\\lib\\site-packages\\ipykernel_launcher.py:1: UserWarning: Boolean Series key will be reindexed to match DataFrame index.\n",
      "  \"\"\"Entry point for launching an IPython kernel.\n",
      "C:\\Users\\Bruno\\Anaconda3\\envs\\py3-TF2.0\\lib\\site-packages\\ipykernel_launcher.py:2: UserWarning: Boolean Series key will be reindexed to match DataFrame index.\n",
      "  \n"
     ]
    }
   ],
   "source": [
    "raw_csv_data_no = raw_csv_data_90_towork[raw_csv_data.went_on_backorder == 'No']\n",
    "raw_csv_data_yes = raw_csv_data_90_towork[raw_csv_data.went_on_backorder == 'Yes']"
   ]
  },
  {
   "cell_type": "markdown",
   "metadata": {},
   "source": [
    "- Downsampling the **original** dataset with negative answers (\"No\")."
   ]
  },
  {
   "cell_type": "code",
   "execution_count": 31,
   "metadata": {},
   "outputs": [],
   "source": [
    "# Downsampling \"majority\" class \"No\" without changing original values\n",
    "# This is for the experiment with a balanced data 50% yes 50% no\n",
    "# This dataset will be used together with the original dataset of positive answers (\"Yes\")\n",
    "\n",
    "raw_csv_data_no_down = resample(raw_csv_data_no,\n",
    "                      replace=False,\n",
    "                      n_samples=8000,\n",
    "                      random_state=123)\n",
    "\n",
    "\n",
    "# Downsampling \"majority\" class \"No\" without changing original values\n",
    "# This is for the experiment with a imbalanced data 5% yes 95% no\n",
    "# This dataset will be used together with the original dataset of positive answers (\"Yes\")\n",
    "\n",
    "raw_csv_data_no_down_3 = resample(raw_csv_data_no,\n",
    "                      replace=False,\n",
    "                      n_samples=152019,\n",
    "                      random_state=123)\n",
    "\n",
    "\n",
    "\n",
    "# Downsampling \"majority\" class \"No\" without changing original values\n",
    "# This dataset will be used together with the up-sampled dataset of positive answers (\"Yes\")\n",
    "\n",
    "raw_csv_data_no_down_2 = resample(raw_csv_data_no,\n",
    "                      replace=False,\n",
    "                      n_samples=40000,\n",
    "                      random_state=123)"
   ]
  },
  {
   "cell_type": "markdown",
   "metadata": {},
   "source": [
    "- Upsampling the dataset with positive answers (\"Yes)."
   ]
  },
  {
   "cell_type": "code",
   "execution_count": 32,
   "metadata": {},
   "outputs": [],
   "source": [
    "# Upsampling \"minority\" class replacing additional data with random data based on original data\n",
    "\n",
    "raw_csv_data_yes_up = resample(raw_csv_data_yes,\n",
    "                      replace=True,\n",
    "                      n_samples=40000,\n",
    "                      random_state=123)"
   ]
  },
  {
   "cell_type": "markdown",
   "metadata": {},
   "source": [
    "- Combining the **down-sampled** and the **up-sampled** datasets."
   ]
  },
  {
   "cell_type": "code",
   "execution_count": 33,
   "metadata": {},
   "outputs": [],
   "source": [
    "# Down-sampled 50/50\n",
    "raw_csv_data_downsampled_5050 = pd.concat([raw_csv_data_yes,raw_csv_data_no_down])\n",
    "\n",
    "# Down-sampled 05/95\n",
    "raw_csv_data_downsampled_0595 = pd.concat([raw_csv_data_yes,raw_csv_data_no_down_3])\n",
    "\n",
    "# Up-sampled\n",
    "raw_csv_data_upsampled = pd.concat([raw_csv_data_yes_up,raw_csv_data_no_down_2])"
   ]
  },
  {
   "cell_type": "markdown",
   "metadata": {},
   "source": [
    "- **Down-sampled** dataset with **50% of positive** and **50% of negative** classes rebalanced."
   ]
  },
  {
   "cell_type": "code",
   "execution_count": 34,
   "metadata": {},
   "outputs": [
    {
     "data": {
      "text/plain": [
       "went_on_backorder\n",
       "Yes    8001\n",
       "No     8000\n",
       "Name: went_on_backorder, dtype: int64"
      ]
     },
     "execution_count": 34,
     "metadata": {},
     "output_type": "execute_result"
    }
   ],
   "source": [
    "raw_csv_data_downsampled_5050.groupby(['went_on_backorder'])['went_on_backorder'].count().sort_values(ascending=False)"
   ]
  },
  {
   "cell_type": "markdown",
   "metadata": {},
   "source": [
    "- Ploting the **down-sampled** dataset with **50% of positive** and **50% of negative** classes rebalanced."
   ]
  },
  {
   "cell_type": "code",
   "execution_count": 35,
   "metadata": {},
   "outputs": [
    {
     "data": {
      "image/png": "[encoded data removed]",
      "text/plain": [
       "<Figure size 720x360 with 1 Axes>"
      ]
     },
     "metadata": {
      "needs_background": "light"
     },
     "output_type": "display_data"
    }
   ],
   "source": [
    "# Defining the figure of the plot and axes\n",
    "fig, ax = plt.subplots(figsize=(10,5))\n",
    "\n",
    "# Defining plot parameters\n",
    "ax.set_title('Dataset 50/50 - Balance of Target Variable (went_on_backorder)', fontsize=16)\n",
    "\n",
    "# Ploting\n",
    "sns.countplot(raw_csv_data_downsampled_5050['went_on_backorder'],palette='hls')\n",
    "\n",
    "# Saving the plot\n",
    "plt.savefig(path_figures + 'backorder_rebalanced_ds_5050.png', bbox_inches='tight')\n",
    "\n",
    "plt.show()"
   ]
  },
  {
   "cell_type": "markdown",
   "metadata": {},
   "source": [
    "- **Down-sampled** dataset with **5% of positive** and **95% of negative** classes rebalanced."
   ]
  },
  {
   "cell_type": "code",
   "execution_count": 36,
   "metadata": {},
   "outputs": [
    {
     "data": {
      "text/plain": [
       "went_on_backorder\n",
       "No     152019\n",
       "Yes      8001\n",
       "Name: went_on_backorder, dtype: int64"
      ]
     },
     "execution_count": 36,
     "metadata": {},
     "output_type": "execute_result"
    }
   ],
   "source": [
    "raw_csv_data_downsampled_0595.groupby(['went_on_backorder'])['went_on_backorder'].count().sort_values(ascending=False)"
   ]
  },
  {
   "cell_type": "markdown",
   "metadata": {},
   "source": [
    "- Ploting the **down-sampled** dataset with **5% of positive** and **95% of negative** classes rebalanced."
   ]
  },
  {
   "cell_type": "code",
   "execution_count": 37,
   "metadata": {},
   "outputs": [
    {
     "data": {
      "image/png": "[encoded data removed]",
      "text/plain": [
       "<Figure size 720x360 with 1 Axes>"
      ]
     },
     "metadata": {
      "needs_background": "light"
     },
     "output_type": "display_data"
    }
   ],
   "source": [
    "# Defining the figure of the plot and axes\n",
    "fig, ax = plt.subplots(figsize=(10,5))\n",
    "\n",
    "# Defining plot parameters\n",
    "ax.set_title('Dataset 05/95 - Balance of Target Variable (went_on_backorder)', fontsize=16)\n",
    "\n",
    "# Ploting\n",
    "sns.countplot(raw_csv_data_downsampled_0595['went_on_backorder'],palette='hls')\n",
    "\n",
    "# Saving the plot\n",
    "plt.savefig(path_figures + 'backorder_rebalanced_ds_0595.png', bbox_inches='tight')\n",
    "\n",
    "plt.show()"
   ]
  },
  {
   "cell_type": "markdown",
   "metadata": {},
   "source": [
    "- **Up-sampled** dataset rebalanced."
   ]
  },
  {
   "cell_type": "code",
   "execution_count": 38,
   "metadata": {},
   "outputs": [
    {
     "data": {
      "text/plain": [
       "went_on_backorder\n",
       "Yes    40000\n",
       "No     40000\n",
       "Name: went_on_backorder, dtype: int64"
      ]
     },
     "execution_count": 38,
     "metadata": {},
     "output_type": "execute_result"
    }
   ],
   "source": [
    "raw_csv_data_upsampled.groupby(['went_on_backorder'])['went_on_backorder'].count().sort_values(ascending=False)"
   ]
  },
  {
   "cell_type": "markdown",
   "metadata": {},
   "source": [
    "- Ploting the **up-sampled** dataset rebalanced."
   ]
  },
  {
   "cell_type": "code",
   "execution_count": 39,
   "metadata": {},
   "outputs": [
    {
     "data": {
      "image/png": "[encoded data removed]",
      "text/plain": [
       "<Figure size 720x360 with 1 Axes>"
      ]
     },
     "metadata": {
      "needs_background": "light"
     },
     "output_type": "display_data"
    }
   ],
   "source": [
    "# Defining the figure of the plot and axes\n",
    "fig, ax = plt.subplots(figsize=(10,5))\n",
    "\n",
    "# Defining plot parameters\n",
    "ax.set_title('Up-Sampled Dataset - Balance of Target Variable (went_on_backorder)', fontsize=16)\n",
    "\n",
    "# Ploting\n",
    "sns.countplot(raw_csv_data_upsampled['went_on_backorder'],palette='hls')\n",
    "\n",
    "# Saving the plot\n",
    "plt.savefig(path_figures + 'backorder_rebalanced_up.png', bbox_inches='tight')\n",
    "\n",
    "plt.show()"
   ]
  },
  {
   "cell_type": "markdown",
   "metadata": {},
   "source": [
    "# 7. Shuffling "
   ]
  },
  {
   "cell_type": "markdown",
   "metadata": {},
   "source": [
    "As we are dealing with a linear model by nature, it is a good practice to shuffle the data so the model will not get used to the data."
   ]
  },
  {
   "cell_type": "markdown",
   "metadata": {},
   "source": [
    "- Shuffling **down-sampled 50/50** dataset. up-sampled and down-sampled datasets and test_for_all"
   ]
  },
  {
   "cell_type": "code",
   "execution_count": 40,
   "metadata": {},
   "outputs": [],
   "source": [
    "# Creating shuffled indices from down-sampled dataset\n",
    "shuffled_indices = np.arange(raw_csv_data_downsampled_5050.shape[0])\n",
    "\n",
    "# Shuffling down-sampled indices\n",
    "shuffled_indices\n",
    "np.random.shuffle(shuffled_indices)\n",
    "\n",
    "# Creating new down-sampled dataset based on shuffled indices\n",
    "shuffled_downsampled_5050 = raw_csv_data_downsampled_5050.iloc[shuffled_indices]"
   ]
  },
  {
   "cell_type": "markdown",
   "metadata": {},
   "source": [
    "- Shuffling **down-sampled 05/95** dataset."
   ]
  },
  {
   "cell_type": "code",
   "execution_count": 41,
   "metadata": {},
   "outputs": [],
   "source": [
    "# Creating shuffled indices from down-sampled dataset\n",
    "shuffled_indices = np.arange(raw_csv_data_downsampled_0595.shape[0])\n",
    "\n",
    "# Shuffling down-sampled indices\n",
    "shuffled_indices\n",
    "np.random.shuffle(shuffled_indices)\n",
    "\n",
    "# Creating new down-sampled dataset based on shuffled indices\n",
    "shuffled_downsampled_0595 = raw_csv_data_downsampled_0595.iloc[shuffled_indices]"
   ]
  },
  {
   "cell_type": "markdown",
   "metadata": {},
   "source": [
    "- Shuffling **up-sampled** dataset."
   ]
  },
  {
   "cell_type": "code",
   "execution_count": 42,
   "metadata": {},
   "outputs": [],
   "source": [
    "# Creating shuffled indices from up-sampled dataset\n",
    "shuffled_indices = np.arange(raw_csv_data_upsampled.shape[0])\n",
    "\n",
    "# Shuffling up-sampled indices\n",
    "shuffled_indices\n",
    "np.random.shuffle(shuffled_indices)\n",
    "\n",
    "# Creating new up-sampled dataset based on shuffled indices\n",
    "shuffled_upsampled = raw_csv_data_upsampled.iloc[shuffled_indices]"
   ]
  },
  {
   "cell_type": "markdown",
   "metadata": {},
   "source": [
    "- Shuffling **test_for_all** dataset."
   ]
  },
  {
   "cell_type": "code",
   "execution_count": 43,
   "metadata": {},
   "outputs": [],
   "source": [
    "# Creating shuffled indices from test_for_all dataset\n",
    "shuffled_indices = np.arange(raw_csv_data_test_for_all.shape[0])\n",
    "\n",
    "# Shuffling test_for_all indices\n",
    "shuffled_indices\n",
    "np.random.shuffle(shuffled_indices)\n",
    "\n",
    "# Creating new test_for_all dataset based on shuffled indices\n",
    "shuffled_test_for_all = raw_csv_data_test_for_all.iloc[shuffled_indices]"
   ]
  },
  {
   "cell_type": "markdown",
   "metadata": {},
   "source": [
    "Dividing **features** and **targets** in the shuffled datasets."
   ]
  },
  {
   "cell_type": "markdown",
   "metadata": {},
   "source": [
    "- Dividing **features** and **targets** from shuffled **down-sampled 50/50** dataset."
   ]
  },
  {
   "cell_type": "code",
   "execution_count": 44,
   "metadata": {},
   "outputs": [],
   "source": [
    "unscaled_inputs_all_ds_5050 = shuffled_downsampled_5050.iloc[:,1:-1]"
   ]
  },
  {
   "cell_type": "code",
   "execution_count": 45,
   "metadata": {},
   "outputs": [],
   "source": [
    "targets_all_ds_5050 = shuffled_downsampled_5050.iloc[:,-1]"
   ]
  },
  {
   "cell_type": "markdown",
   "metadata": {},
   "source": [
    "- Dividing **features** and **targets** from shuffled **down-sampled 05/95** dataset."
   ]
  },
  {
   "cell_type": "code",
   "execution_count": 46,
   "metadata": {},
   "outputs": [],
   "source": [
    "unscaled_inputs_all_ds_0595 = shuffled_downsampled_0595.iloc[:,1:-1]"
   ]
  },
  {
   "cell_type": "code",
   "execution_count": 47,
   "metadata": {},
   "outputs": [],
   "source": [
    "targets_all_ds_0595 = shuffled_downsampled_0595.iloc[:,-1]"
   ]
  },
  {
   "cell_type": "markdown",
   "metadata": {},
   "source": [
    "- Dividing **features** and **targets** from shuffled **up-sampled** dataset."
   ]
  },
  {
   "cell_type": "code",
   "execution_count": 48,
   "metadata": {},
   "outputs": [],
   "source": [
    "unscaled_inputs_all_us = shuffled_upsampled.iloc[:,1:-1]"
   ]
  },
  {
   "cell_type": "code",
   "execution_count": 49,
   "metadata": {},
   "outputs": [],
   "source": [
    "targets_all_us = shuffled_upsampled.iloc[:,-1]"
   ]
  },
  {
   "cell_type": "markdown",
   "metadata": {},
   "source": [
    "- Dividing **features** and **targets** from shuffled **test_for_all** dataset."
   ]
  },
  {
   "cell_type": "code",
   "execution_count": 50,
   "metadata": {},
   "outputs": [],
   "source": [
    "unscaled_inputs_all_tfa = shuffled_test_for_all.iloc[:,1:-1]"
   ]
  },
  {
   "cell_type": "code",
   "execution_count": 51,
   "metadata": {},
   "outputs": [],
   "source": [
    "targets_all_tfa = shuffled_test_for_all.iloc[:,-1]"
   ]
  },
  {
   "cell_type": "markdown",
   "metadata": {},
   "source": [
    "# 8. One-Hot Enconding"
   ]
  },
  {
   "cell_type": "markdown",
   "metadata": {},
   "source": [
    "One-Hot Enconding uses \"binarization\" to convert a categorical variable into a computer-based feature to be used by the model."
   ]
  },
  {
   "cell_type": "markdown",
   "metadata": {},
   "source": [
    "- Encoding categorical variables **\"potential_issue\"**, **\"deck_risk\"**, **\"oe_constraint\"**, **\"ppap_risk\"**, **\"stop_auto_buy\"**, **\"rev_stop\"** of the **down-sampled 50/50** dataset using **get_dummies** method."
   ]
  },
  {
   "cell_type": "code",
   "execution_count": 52,
   "metadata": {},
   "outputs": [],
   "source": [
    "unscaled_inputs_all_ds_5050 = pd.get_dummies(unscaled_inputs_all_ds_5050)"
   ]
  },
  {
   "cell_type": "code",
   "execution_count": 53,
   "metadata": {},
   "outputs": [],
   "source": [
    "unscaled_inputs_all_ds_5050 = unscaled_inputs_all_ds_5050.astype(float)"
   ]
  },
  {
   "cell_type": "markdown",
   "metadata": {},
   "source": [
    "- Encoding categorical variables **\"potential_issue\"**, **\"deck_risk\"**, **\"oe_constraint\"**, **\"ppap_risk\"**, **\"stop_auto_buy\"**, **\"rev_stop\"** of the **down-sampled 05/95** dataset using **get_dummies** method."
   ]
  },
  {
   "cell_type": "code",
   "execution_count": 54,
   "metadata": {},
   "outputs": [],
   "source": [
    "unscaled_inputs_all_ds_0595 = pd.get_dummies(unscaled_inputs_all_ds_0595)"
   ]
  },
  {
   "cell_type": "code",
   "execution_count": 55,
   "metadata": {},
   "outputs": [],
   "source": [
    "unscaled_inputs_all_ds_0595 = unscaled_inputs_all_ds_0595.astype(float)"
   ]
  },
  {
   "cell_type": "markdown",
   "metadata": {},
   "source": [
    "- Encoding **target** variable of both **down-sampled** datasets  (50/50 and 05/95)."
   ]
  },
  {
   "cell_type": "code",
   "execution_count": 56,
   "metadata": {},
   "outputs": [],
   "source": [
    "target_map = {'Yes': 1.0, 'No': 0.0}"
   ]
  },
  {
   "cell_type": "code",
   "execution_count": 57,
   "metadata": {},
   "outputs": [],
   "source": [
    "targets_all_ds_5050 = targets_all_ds_5050.replace(target_map)"
   ]
  },
  {
   "cell_type": "code",
   "execution_count": 58,
   "metadata": {},
   "outputs": [],
   "source": [
    "targets_all_ds_0595 = targets_all_ds_0595.replace(target_map)"
   ]
  },
  {
   "cell_type": "markdown",
   "metadata": {},
   "source": [
    "- Encoding categorical variables \"potential_issue\", \"deck_risk\", \"oe_constraint\", \"ppap_risk\", \"stop_auto_buy\", \"rev_stop\" of the **up-sampled** dataset using **get_dummies** function."
   ]
  },
  {
   "cell_type": "code",
   "execution_count": 59,
   "metadata": {},
   "outputs": [],
   "source": [
    "unscaled_inputs_all_us = pd.get_dummies(unscaled_inputs_all_us)"
   ]
  },
  {
   "cell_type": "code",
   "execution_count": 60,
   "metadata": {},
   "outputs": [],
   "source": [
    "unscaled_inputs_all_us = unscaled_inputs_all_us.astype(float)"
   ]
  },
  {
   "cell_type": "markdown",
   "metadata": {},
   "source": [
    "- Encoding target variable of **up-sampled** dataset."
   ]
  },
  {
   "cell_type": "code",
   "execution_count": 61,
   "metadata": {},
   "outputs": [],
   "source": [
    "target_map = {'Yes': 1.0, 'No': 0.0}"
   ]
  },
  {
   "cell_type": "code",
   "execution_count": 62,
   "metadata": {},
   "outputs": [],
   "source": [
    "targets_all_us = targets_all_us.replace(target_map)"
   ]
  },
  {
   "cell_type": "markdown",
   "metadata": {},
   "source": [
    "- Encoding categorical variables **\"potential_issue\"**, **\"deck_risk\"**, **\"oe_constraint\"**, **\"ppap_risk\"**, **\"stop_auto_buy\"**, **\"rev_stop\"** of the **test_for_all** dataset using **get_dummies** method."
   ]
  },
  {
   "cell_type": "code",
   "execution_count": 63,
   "metadata": {},
   "outputs": [],
   "source": [
    "unscaled_inputs_all_tfa = pd.get_dummies(unscaled_inputs_all_tfa)"
   ]
  },
  {
   "cell_type": "code",
   "execution_count": 64,
   "metadata": {},
   "outputs": [],
   "source": [
    "unscaled_inputs_all_tfa = unscaled_inputs_all_tfa.astype(float)"
   ]
  },
  {
   "cell_type": "markdown",
   "metadata": {},
   "source": [
    "- Encoding **target** variable of **test_for_all** dataset."
   ]
  },
  {
   "cell_type": "code",
   "execution_count": 65,
   "metadata": {},
   "outputs": [],
   "source": [
    "target_map = {'Yes': 1.0, 'No': 0.0}"
   ]
  },
  {
   "cell_type": "code",
   "execution_count": 66,
   "metadata": {},
   "outputs": [],
   "source": [
    "targets_all_tfa = targets_all_tfa.replace(target_map)"
   ]
  },
  {
   "cell_type": "markdown",
   "metadata": {},
   "source": [
    "# 9. Feature Scaling"
   ]
  },
  {
   "cell_type": "markdown",
   "metadata": {},
   "source": [
    "Feature scaling put the numerical variables onto similar numerical scales so one feature will not have higher preference over another."
   ]
  },
  {
   "cell_type": "markdown",
   "metadata": {},
   "source": [
    "- Importing library to scale inputs."
   ]
  },
  {
   "cell_type": "code",
   "execution_count": 67,
   "metadata": {},
   "outputs": [],
   "source": [
    "from sklearn import preprocessing"
   ]
  },
  {
   "cell_type": "markdown",
   "metadata": {},
   "source": [
    "- Scalling **down-sampled 50/50** dataset."
   ]
  },
  {
   "cell_type": "code",
   "execution_count": 68,
   "metadata": {},
   "outputs": [],
   "source": [
    "scaled_inputs_ds_5050 = preprocessing.scale(unscaled_inputs_all_ds_5050)"
   ]
  },
  {
   "cell_type": "markdown",
   "metadata": {},
   "source": [
    "- Scalling **down-sampled 05/95** dataset."
   ]
  },
  {
   "cell_type": "code",
   "execution_count": 69,
   "metadata": {},
   "outputs": [],
   "source": [
    "scaled_inputs_ds_0595 = preprocessing.scale(unscaled_inputs_all_ds_0595)"
   ]
  },
  {
   "cell_type": "markdown",
   "metadata": {},
   "source": [
    "- Scalling **up-sampled** dataset."
   ]
  },
  {
   "cell_type": "code",
   "execution_count": 70,
   "metadata": {},
   "outputs": [],
   "source": [
    "scaled_inputs_us = preprocessing.scale(unscaled_inputs_all_us)"
   ]
  },
  {
   "cell_type": "markdown",
   "metadata": {},
   "source": [
    "- Scalling **test_for_all** dataset."
   ]
  },
  {
   "cell_type": "code",
   "execution_count": 71,
   "metadata": {},
   "outputs": [],
   "source": [
    "scaled_inputs_tfa = preprocessing.scale(unscaled_inputs_all_tfa)"
   ]
  },
  {
   "cell_type": "markdown",
   "metadata": {},
   "source": [
    "## 10. Spliting"
   ]
  },
  {
   "cell_type": "markdown",
   "metadata": {},
   "source": [
    "- Spliting features of **down-sampled 50/50** dataset into **train** (80%), **validation** (10%) and **test** (10%) datasets."
   ]
  },
  {
   "cell_type": "code",
   "execution_count": 72,
   "metadata": {},
   "outputs": [],
   "source": [
    "train_inputs_ds_5050, validation_inputs_ds_5050, test_inputs_ds_5050 = np.split(scaled_inputs_ds_5050, \n",
    "                                                                 [int(.8 * len(scaled_inputs_ds_5050)), \n",
    "                                                                  int(.9 * len(scaled_inputs_ds_5050))])"
   ]
  },
  {
   "cell_type": "markdown",
   "metadata": {},
   "source": [
    "- Spliting targets of **down-sampled** dataset into **train** (80%), **validation** (10%) and **test** (10%) datasets."
   ]
  },
  {
   "cell_type": "code",
   "execution_count": 73,
   "metadata": {},
   "outputs": [],
   "source": [
    "train_targets_ds_5050, validation_targets_ds_5050, test_targets_ds_5050 = np.split(targets_all_ds_5050, \n",
    "                                                                 [int(.8 * len(targets_all_ds_5050)), \n",
    "                                                                  int(.9 * len(targets_all_ds_5050))])\n",
    "\n",
    "# Converting targets into numpy array. \n",
    "# For some reason when we use the scale method of sklearn kit it changes the object from pandas dataframe to a numpy array.\n",
    "# Converting the targets that do not need to scale into a numpy array for compatibility reasons.\n",
    "\n",
    "train_targets_ds_5050 = np.array(train_targets_ds_5050)\n",
    "validation_targets_ds_5050 = np.array(validation_targets_ds_5050)\n",
    "test_targets_ds_5050 = np.array(test_targets_ds_5050)"
   ]
  },
  {
   "cell_type": "markdown",
   "metadata": {},
   "source": [
    "- Spliting features of **down-sampled 05/95** dataset into **train** (80%), **validation** (10%) and **test** (10%) datasets."
   ]
  },
  {
   "cell_type": "code",
   "execution_count": 74,
   "metadata": {},
   "outputs": [],
   "source": [
    "train_inputs_ds_0595, validation_inputs_ds_0595, test_inputs_ds_0595 = np.split(scaled_inputs_ds_0595, \n",
    "                                                                 [int(.8 * len(scaled_inputs_ds_0595)), \n",
    "                                                                  int(.9 * len(scaled_inputs_ds_0595))])"
   ]
  },
  {
   "cell_type": "markdown",
   "metadata": {},
   "source": [
    "- Spliting targets of **down-sampled 05/95** dataset into **train** (80%), **validation** (10%) and **test** (10%) datasets."
   ]
  },
  {
   "cell_type": "code",
   "execution_count": 75,
   "metadata": {},
   "outputs": [],
   "source": [
    "train_targets_ds_0595, validation_targets_ds_0595, test_targets_ds_0595 = np.split(targets_all_ds_0595, \n",
    "                                                                 [int(.8 * len(targets_all_ds_0595)), \n",
    "                                                                  int(.9 * len(targets_all_ds_0595))])\n",
    "\n",
    "# Converting targets into numpy array. \n",
    "# For some reason when we use the scale method of sklearn kit it changes the object from pandas dataframe to a numpy array.\n",
    "# Converting the targets that do not need to scale into a numpy array for compatibility reasons.\n",
    "\n",
    "train_targets_ds_0595 = np.array(train_targets_ds_0595)\n",
    "validation_targets_ds_0595 = np.array(validation_targets_ds_0595)\n",
    "test_targets_ds_0595 = np.array(test_targets_ds_0595)"
   ]
  },
  {
   "cell_type": "markdown",
   "metadata": {},
   "source": [
    "- Spliting features of **up-sampled** dataset into **train** (80%), **validation** (10%) and **test** (10%) datasets."
   ]
  },
  {
   "cell_type": "code",
   "execution_count": 76,
   "metadata": {},
   "outputs": [],
   "source": [
    "train_inputs_us, validation_inputs_us, test_inputs_us = np.split(scaled_inputs_us, \n",
    "                                                                 [int(.8 * len(scaled_inputs_us)), \n",
    "                                                                  int(.9 * len(scaled_inputs_us))])\n",
    "\n"
   ]
  },
  {
   "cell_type": "markdown",
   "metadata": {},
   "source": [
    "- Spliting targets of **up-sampled** dataset into **train** (80%), **validation** (10%) and **test** (10%) datasets."
   ]
  },
  {
   "cell_type": "code",
   "execution_count": 77,
   "metadata": {},
   "outputs": [],
   "source": [
    "train_targets_us, validation_targets_us, test_targets_us = np.split(targets_all_us, \n",
    "                                                                 [int(.8 * len(targets_all_us)), \n",
    "                                                                  int(.9 * len(targets_all_us))])\n",
    "\n",
    "# Converting targets into numpy array. \n",
    "# For some reason when we use the scale method of sklearn kit it changes the object from pandas dataframe to a numpy array.\n",
    "# Converting the targets that do not need to scale into a numpy array for compatibility reasons.\n",
    "\n",
    "train_targets_us = np.array(train_targets_us)\n",
    "validation_targets_us = np.array(validation_targets_us)\n",
    "test_targets_us = np.array(test_targets_us)"
   ]
  },
  {
   "cell_type": "markdown",
   "metadata": {},
   "source": [
    "- converting targets into numpy arrays for the **test_for_all dataset**"
   ]
  },
  {
   "cell_type": "code",
   "execution_count": 78,
   "metadata": {},
   "outputs": [],
   "source": [
    "# Converting targets into numpy array. \n",
    "# For some reason when we use the scale method of sklearn kit it changes the object from pandas dataframe to a numpy array.\n",
    "# Converting the targets that do not need to scale into a numpy array for compatibility reasons.\n",
    "\n",
    "targets_all_tfa = np.array(targets_all_tfa)"
   ]
  },
  {
   "cell_type": "markdown",
   "metadata": {},
   "source": [
    "## 11. Exporting"
   ]
  },
  {
   "cell_type": "markdown",
   "metadata": {},
   "source": [
    " Saving the resulting datasets in numpy format (npz) which will be used by tensorflow model."
   ]
  },
  {
   "cell_type": "markdown",
   "metadata": {},
   "source": [
    "- Saving **down-sampled 50/50** dataset."
   ]
  },
  {
   "cell_type": "code",
   "execution_count": 79,
   "metadata": {},
   "outputs": [],
   "source": [
    "# Save the three datasets in *.npz.\n",
    "\n",
    "np.savez(path_result + 'DS_5050_backorder_data_train', inputs=train_inputs_ds_5050, targets=train_targets_ds_5050)\n",
    "np.savez(path_result + 'DS_5050_backorder_data_validation', inputs=validation_inputs_ds_5050, targets=validation_targets_ds_5050)\n",
    "np.savez(path_result + 'DS_5050_backorder_data_test', inputs=test_inputs_ds_5050, targets=test_targets_ds_5050)"
   ]
  },
  {
   "cell_type": "markdown",
   "metadata": {},
   "source": [
    "- Saving **down-sampled 05/95** dataset."
   ]
  },
  {
   "cell_type": "code",
   "execution_count": 80,
   "metadata": {},
   "outputs": [],
   "source": [
    "# Save the three datasets in *.npz.\n",
    "\n",
    "np.savez(path_result + 'DS_0595_backorder_data_train', inputs=train_inputs_ds_0595, targets=train_targets_ds_0595)\n",
    "np.savez(path_result + 'DS_0595_backorder_data_validation', inputs=validation_inputs_ds_0595, targets=validation_targets_ds_0595)\n",
    "np.savez(path_result + 'DS_0595_backorder_data_test', inputs=test_inputs_ds_0595, targets=test_targets_ds_0595)"
   ]
  },
  {
   "cell_type": "markdown",
   "metadata": {},
   "source": [
    "- Saving **up-sampled 50/50** dataset."
   ]
  },
  {
   "cell_type": "code",
   "execution_count": 81,
   "metadata": {},
   "outputs": [],
   "source": [
    "np.savez(path_result + 'US_backorder_data_train', inputs=train_inputs_us, targets=train_targets_us)\n",
    "np.savez(path_result + 'US_backorder_data_validation', inputs=validation_inputs_us, targets=validation_targets_us)\n",
    "np.savez(path_result + 'US_backorder_data_test', inputs=test_inputs_us, targets=test_targets_us)"
   ]
  },
  {
   "cell_type": "markdown",
   "metadata": {},
   "source": [
    "- Saving **test_for_all** dataset."
   ]
  },
  {
   "cell_type": "code",
   "execution_count": 82,
   "metadata": {},
   "outputs": [],
   "source": [
    "np.savez(path_result + 'TFA_backorder_data_gral_test', inputs=scaled_inputs_tfa, targets=targets_all_tfa)"
   ]
  }
 ],
 "metadata": {
  "kernelspec": {
   "display_name": "Python 3",
   "language": "python",
   "name": "python3"
  },
  "language_info": {
   "codemirror_mode": {
    "name": "ipython",
    "version": 3
   },
   "file_extension": ".py",
   "mimetype": "text/x-python",
   "name": "python",
   "nbconvert_exporter": "python",
   "pygments_lexer": "ipython3",
   "version": "3.7.7"
  }
 },
 "nbformat": 4,
 "nbformat_minor": 4
}
